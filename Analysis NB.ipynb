{
 "cells": [
  {
   "cell_type": "code",
   "execution_count": 220,
   "metadata": {},
   "outputs": [],
   "source": [
    "import numpy as np\n",
    "import pandas as pd\n",
    "import matplotlib.pyplot as plt\n",
    "import seaborn as sns\n",
    "import warnings\n",
    "import os\n",
    "warnings.simplefilter(action='ignore', category=FutureWarning)"
   ]
  },
  {
   "cell_type": "code",
   "execution_count": 221,
   "metadata": {},
   "outputs": [],
   "source": [
    "data = pd.read_csv(\"Cleaned Data.csv\", index_col=0)"
   ]
  },
  {
   "cell_type": "code",
   "execution_count": 222,
   "metadata": {},
   "outputs": [
    {
     "data": {
      "text/html": [
       "<div>\n",
       "<style scoped>\n",
       "    .dataframe tbody tr th:only-of-type {\n",
       "        vertical-align: middle;\n",
       "    }\n",
       "\n",
       "    .dataframe tbody tr th {\n",
       "        vertical-align: top;\n",
       "    }\n",
       "\n",
       "    .dataframe thead th {\n",
       "        text-align: right;\n",
       "    }\n",
       "</style>\n",
       "<table border=\"1\" class=\"dataframe\">\n",
       "  <thead>\n",
       "    <tr style=\"text-align: right;\">\n",
       "      <th></th>\n",
       "      <th>Gender</th>\n",
       "      <th>Martial Status</th>\n",
       "      <th>No. of Childs</th>\n",
       "      <th>Education</th>\n",
       "      <th>Work</th>\n",
       "      <th>Pre_code</th>\n",
       "      <th>Post_code</th>\n",
       "      <th>item</th>\n",
       "      <th>department</th>\n",
       "      <th>brand</th>\n",
       "      <th>...</th>\n",
       "      <th>Gross Weight</th>\n",
       "      <th>Package Weight</th>\n",
       "      <th>Is Recyclable?</th>\n",
       "      <th>Min. Yearly Income</th>\n",
       "      <th>Store Area</th>\n",
       "      <th>Grocery Area</th>\n",
       "      <th>Frozen Area</th>\n",
       "      <th>Meat Area</th>\n",
       "      <th>Cost</th>\n",
       "      <th>Cost Class</th>\n",
       "    </tr>\n",
       "  </thead>\n",
       "  <tbody>\n",
       "    <tr>\n",
       "      <th>0</th>\n",
       "      <td>Female</td>\n",
       "      <td>Single</td>\n",
       "      <td>4</td>\n",
       "      <td>bachelors</td>\n",
       "      <td>professional</td>\n",
       "      <td>H11go</td>\n",
       "      <td>ZA</td>\n",
       "      <td>cleaning supplies</td>\n",
       "      <td>household</td>\n",
       "      <td>red wing</td>\n",
       "      <td>...</td>\n",
       "      <td>28.1997</td>\n",
       "      <td>1.5990</td>\n",
       "      <td>1.0</td>\n",
       "      <td>10</td>\n",
       "      <td>2842.23</td>\n",
       "      <td>2037.640000</td>\n",
       "      <td>481.98</td>\n",
       "      <td>323.000000</td>\n",
       "      <td>602.7575</td>\n",
       "      <td>D</td>\n",
       "    </tr>\n",
       "    <tr>\n",
       "      <th>1</th>\n",
       "      <td>Female</td>\n",
       "      <td>Single</td>\n",
       "      <td>3</td>\n",
       "      <td>bachelors</td>\n",
       "      <td>management</td>\n",
       "      <td>S04ne</td>\n",
       "      <td>WA</td>\n",
       "      <td>snack foods</td>\n",
       "      <td>snack foods</td>\n",
       "      <td>nationeel</td>\n",
       "      <td>...</td>\n",
       "      <td>16.5710</td>\n",
       "      <td>1.5990</td>\n",
       "      <td>0.0</td>\n",
       "      <td>50</td>\n",
       "      <td>2814.95</td>\n",
       "      <td>2049.720000</td>\n",
       "      <td>457.36</td>\n",
       "      <td>328.464616</td>\n",
       "      <td>708.6650</td>\n",
       "      <td>E</td>\n",
       "    </tr>\n",
       "    <tr>\n",
       "      <th>2</th>\n",
       "      <td>Male</td>\n",
       "      <td>Married</td>\n",
       "      <td>2</td>\n",
       "      <td>high</td>\n",
       "      <td>manual</td>\n",
       "      <td>L05es</td>\n",
       "      <td>CA</td>\n",
       "      <td>magazines</td>\n",
       "      <td>periodicals</td>\n",
       "      <td>excel</td>\n",
       "      <td>...</td>\n",
       "      <td>28.6358</td>\n",
       "      <td>1.4536</td>\n",
       "      <td>1.0</td>\n",
       "      <td>30</td>\n",
       "      <td>2192.32</td>\n",
       "      <td>1322.210000</td>\n",
       "      <td>523.32</td>\n",
       "      <td>348.850000</td>\n",
       "      <td>564.2647</td>\n",
       "      <td>D</td>\n",
       "    </tr>\n",
       "    <tr>\n",
       "      <th>3</th>\n",
       "      <td>Female</td>\n",
       "      <td>Single</td>\n",
       "      <td>3</td>\n",
       "      <td>partial</td>\n",
       "      <td>professional</td>\n",
       "      <td>S03le</td>\n",
       "      <td>WA</td>\n",
       "      <td>dairy</td>\n",
       "      <td>dairy</td>\n",
       "      <td>carlson</td>\n",
       "      <td>...</td>\n",
       "      <td>14.2161</td>\n",
       "      <td>2.9217</td>\n",
       "      <td>1.0</td>\n",
       "      <td>30</td>\n",
       "      <td>1974.73</td>\n",
       "      <td>1775.439096</td>\n",
       "      <td>440.92</td>\n",
       "      <td>293.950000</td>\n",
       "      <td>724.5119</td>\n",
       "      <td>E</td>\n",
       "    </tr>\n",
       "    <tr>\n",
       "      <th>4</th>\n",
       "      <td>Female</td>\n",
       "      <td>Married</td>\n",
       "      <td>5</td>\n",
       "      <td>bachelors</td>\n",
       "      <td>professional</td>\n",
       "      <td>M10da</td>\n",
       "      <td>YU</td>\n",
       "      <td>vegetables</td>\n",
       "      <td>produce</td>\n",
       "      <td>hermanos</td>\n",
       "      <td>...</td>\n",
       "      <td>12.6172</td>\n",
       "      <td>2.9072</td>\n",
       "      <td>0.0</td>\n",
       "      <td>50</td>\n",
       "      <td>2862.30</td>\n",
       "      <td>1872.190000</td>\n",
       "      <td>593.93</td>\n",
       "      <td>395.950000</td>\n",
       "      <td>519.7574</td>\n",
       "      <td>C</td>\n",
       "    </tr>\n",
       "  </tbody>\n",
       "</table>\n",
       "<p>5 rows × 30 columns</p>\n",
       "</div>"
      ],
      "text/plain": [
       "   Gender Martial Status  No. of Childs  Education          Work Pre_code  \\\n",
       "0  Female         Single              4  bachelors  professional    H11go   \n",
       "1  Female         Single              3  bachelors    management    S04ne   \n",
       "2    Male        Married              2       high        manual    L05es   \n",
       "3  Female         Single              3    partial  professional    S03le   \n",
       "4  Female        Married              5  bachelors  professional    M10da   \n",
       "\n",
       "  Post_code               item   department      brand  ...  Gross Weight  \\\n",
       "0        ZA  cleaning supplies    household   red wing  ...       28.1997   \n",
       "1        WA        snack foods  snack foods  nationeel  ...       16.5710   \n",
       "2        CA          magazines  periodicals      excel  ...       28.6358   \n",
       "3        WA              dairy        dairy    carlson  ...       14.2161   \n",
       "4        YU         vegetables      produce   hermanos  ...       12.6172   \n",
       "\n",
       "   Package Weight  Is Recyclable?  Min. Yearly Income  Store Area  \\\n",
       "0          1.5990             1.0                  10     2842.23   \n",
       "1          1.5990             0.0                  50     2814.95   \n",
       "2          1.4536             1.0                  30     2192.32   \n",
       "3          2.9217             1.0                  30     1974.73   \n",
       "4          2.9072             0.0                  50     2862.30   \n",
       "\n",
       "  Grocery Area Frozen Area   Meat Area      Cost  Cost Class  \n",
       "0  2037.640000      481.98  323.000000  602.7575           D  \n",
       "1  2049.720000      457.36  328.464616  708.6650           E  \n",
       "2  1322.210000      523.32  348.850000  564.2647           D  \n",
       "3  1775.439096      440.92  293.950000  724.5119           E  \n",
       "4  1872.190000      593.93  395.950000  519.7574           C  \n",
       "\n",
       "[5 rows x 30 columns]"
      ]
     },
     "execution_count": 222,
     "metadata": {},
     "output_type": "execute_result"
    }
   ],
   "source": [
    "data.head()"
   ]
  },
  {
   "cell_type": "code",
   "execution_count": 223,
   "metadata": {},
   "outputs": [
    {
     "name": "stdout",
     "output_type": "stream",
     "text": [
      "<class 'pandas.core.frame.DataFrame'>\n",
      "Index: 38829 entries, 0 to 6459\n",
      "Data columns (total 30 columns):\n",
      " #   Column              Non-Null Count  Dtype  \n",
      "---  ------              --------------  -----  \n",
      " 0   Gender              38829 non-null  object \n",
      " 1   Martial Status      38829 non-null  object \n",
      " 2   No. of Childs       38829 non-null  int64  \n",
      " 3   Education           38829 non-null  object \n",
      " 4   Work                38829 non-null  object \n",
      " 5   Pre_code            38829 non-null  object \n",
      " 6   Post_code           38829 non-null  object \n",
      " 7   item                38827 non-null  object \n",
      " 8   department          38827 non-null  object \n",
      " 9   brand               38827 non-null  object \n",
      " 10  Video               38829 non-null  int64  \n",
      " 11  Bar_for_Salad       38829 non-null  int64  \n",
      " 12  Ready_food          38829 non-null  int64  \n",
      " 13  Coffee              38829 non-null  int64  \n",
      " 14  Florist             38829 non-null  int64  \n",
      " 15  Promotion Name      38829 non-null  object \n",
      " 16  Store Kind          38829 non-null  object \n",
      " 17  Store Sales         38829 non-null  float64\n",
      " 18  Store Cost          38829 non-null  float64\n",
      " 19  Net Weight          38829 non-null  float64\n",
      " 20  Gross Weight        38829 non-null  float64\n",
      " 21  Package Weight      38829 non-null  float64\n",
      " 22  Is Recyclable?      38829 non-null  float64\n",
      " 23  Min. Yearly Income  38829 non-null  int64  \n",
      " 24  Store Area          38829 non-null  float64\n",
      " 25  Grocery Area        38829 non-null  float64\n",
      " 26  Frozen Area         38829 non-null  float64\n",
      " 27  Meat Area           38829 non-null  float64\n",
      " 28  Cost                38829 non-null  float64\n",
      " 29  Cost Class          38829 non-null  object \n",
      "dtypes: float64(11), int64(7), object(12)\n",
      "memory usage: 9.2+ MB\n"
     ]
    }
   ],
   "source": [
    "data.info()"
   ]
  },
  {
   "cell_type": "code",
   "execution_count": 224,
   "metadata": {},
   "outputs": [
    {
     "data": {
      "text/plain": [
       "array(['Deluxe', 'Supermarket', 'Gourmet', 'Mid-Size', 'Small Grocery'],\n",
       "      dtype=object)"
      ]
     },
     "execution_count": 224,
     "metadata": {},
     "output_type": "execute_result"
    }
   ],
   "source": [
    "data['Store Kind'].unique()"
   ]
  },
  {
   "cell_type": "code",
   "execution_count": 225,
   "metadata": {},
   "outputs": [
    {
     "data": {
      "image/png": "[encoded data removed]",
      "text/plain": [
       "<Figure size 600x500 with 1 Axes>"
      ]
     },
     "metadata": {},
     "output_type": "display_data"
    }
   ],
   "source": [
    "fig = plt.figure(figsize=(6,5))\n",
    "\n",
    "\n",
    "sns.countplot(data=data,x = data['Gender'] ,hue=data['Martial Status']);"
   ]
  },
  {
   "cell_type": "code",
   "execution_count": 226,
   "metadata": {},
   "outputs": [],
   "source": [
    "data['Min. Yearly Income'] = data['Min. Yearly Income'].agg(str)"
   ]
  },
  {
   "cell_type": "code",
   "execution_count": 227,
   "metadata": {},
   "outputs": [],
   "source": [
    "# # fig = plt.figure(figsize=(6,5))\n",
    "# def income(s):\n",
    "#     return eval(s.split('K+')[0])\n",
    "\n",
    "# data['Min. Yearly Income'] = pd.Series([income(i) for i in data['Min. Yearly Income']])\n",
    "\n",
    "# data.head()"
   ]
  },
  {
   "cell_type": "code",
   "execution_count": 228,
   "metadata": {},
   "outputs": [],
   "source": [
    "# yearlyIncome = pd.DataFrame(data.groupby('Store Kind')['Min. Yearly Income'].agg(np.mean))\n",
    "\n",
    "# yearlyIncome"
   ]
  },
  {
   "cell_type": "code",
   "execution_count": 230,
   "metadata": {},
   "outputs": [
    {
     "data": {
      "image/png": "[encoded data removed]",
      "text/plain": [
       "<Figure size 640x480 with 1 Axes>"
      ]
     },
     "metadata": {},
     "output_type": "display_data"
    }
   ],
   "source": [
    "sns.countplot(data=data, x='Store Kind', hue='Min. Yearly Income');"
   ]
  },
  {
   "cell_type": "code",
   "execution_count": null,
   "metadata": {},
   "outputs": [],
   "source": []
  }
 ],
 "metadata": {
  "kernelspec": {
   "display_name": "Python 3",
   "language": "python",
   "name": "python3"
  },
  "language_info": {
   "codemirror_mode": {
    "name": "ipython",
    "version": 3
   },
   "file_extension": ".py",
   "mimetype": "text/x-python",
   "name": "python",
   "nbconvert_exporter": "python",
   "pygments_lexer": "ipython3",
   "version": "3.11.8"
  }
 },
 "nbformat": 4,
 "nbformat_minor": 2
}
